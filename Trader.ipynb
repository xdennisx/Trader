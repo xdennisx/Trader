{
 "cells": [
  {
   "cell_type": "markdown",
   "metadata": {},
   "source": [
    "先將 data 做預處理，因為光只有 `open-high-low-close` 預測不出甚麼趨勢，所以我就將這四項資料任抓取某兩項的間格，最後再將原本的 `open-high-low-close` 刪掉，然後回傳 feature and target"
   ]
  },
  {
   "cell_type": "code",
   "execution_count": 2,
   "metadata": {
    "scrolled": true
   },
   "outputs": [],
   "source": [
    "def process(Data):\n",
    "    value = pd.Series(Data['open'].shift(-2) - Data['open'].shift(-1), index = Data.index)\n",
    "    Data['High-Low'] = Data['high'] - Data['low'] #today's High - Low\n",
    "    Data['High-Close'] = Data['high'] - Data['close'] #today's High - Close\n",
    "    Data['High-Open'] = Data['high'] - Data['open'] #today's High - Open\n",
    "    Data['Close-Open'] = Data['close'] - Data['open'] #today's Close - Open\n",
    "    Data['Close-High'] = Data['close'] - Data['high'] #today's Close - High\n",
    "    Data['Close-Low'] = Data['close'] - Data['low'] #today's Close - Low\n",
    "    Data['Open-Close'] = Data['open'] - Data['close'] #todat's Open - Close\n",
    "    Data['Open-High'] = Data['open'] - Data['high'] #today's Open - High\n",
    "    value = value.dropna()\n",
    "    value[value >= 0] = 1 #0 means rise\n",
    "    value[value < 0] = 0 #1 means fall\n",
    "    del(Data['open'])\n",
    "    del(Data['close'])\n",
    "    del(Data['high'])\n",
    "    del(Data['low'])\n",
    "    return Data[:len(Data)-2], value"
   ]
  },
  {
   "cell_type": "code",
   "execution_count": null,
   "metadata": {},
   "outputs": [],
   "source": []
  }
 ],
 "metadata": {
  "kernelspec": {
   "display_name": "Python 3",
   "language": "python",
   "name": "python3"
  },
  "language_info": {
   "codemirror_mode": {
    "name": "ipython",
    "version": 3
   },
   "file_extension": ".py",
   "mimetype": "text/x-python",
   "name": "python",
   "nbconvert_exporter": "python",
   "pygments_lexer": "ipython3",
   "version": "3.6.4"
  }
 },
 "nbformat": 4,
 "nbformat_minor": 2
}
