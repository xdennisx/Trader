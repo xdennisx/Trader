{
 "cells": [
  {
   "cell_type": "markdown",
   "metadata": {},
   "source": [
    "先將 data 做預處理，因為光只有 `open-high-low-close` 預測不出甚麼趨勢，所以我就將這四項資料任抓取某兩項的間格，最後再將原本的 `open-high-low-close` 刪掉，然後回傳 feature and target"
   ]
  },
  {
   "cell_type": "code",
   "execution_count": 6,
   "metadata": {
    "scrolled": true
   },
   "outputs": [],
   "source": [
    "def process(Data):\n",
    "    value = pd.Series(Data['open'].shift(-2) - Data['open'].shift(-1), index = Data.index)\n",
    "    Data['High-Low'] = Data['high'] - Data['low'] #today's High - Low\n",
    "    Data['High-Close'] = Data['high'] - Data['close'] #today's High - Close\n",
    "    Data['High-Open'] = Data['high'] - Data['open'] #today's High - Open\n",
    "    Data['Close-Open'] = Data['close'] - Data['open'] #today's Close - Open\n",
    "    Data['Close-High'] = Data['close'] - Data['high'] #today's Close - High\n",
    "    Data['Close-Low'] = Data['close'] - Data['low'] #today's Close - Low\n",
    "    Data['Open-Close'] = Data['open'] - Data['close'] #todat's Open - Close\n",
    "    Data['Open-High'] = Data['open'] - Data['high'] #today's Open - High\n",
    "    value = value.dropna()\n",
    "    value[value >= 0] = 1 #0 means rise\n",
    "    value[value < 0] = 0 #1 means fall\n",
    "    del(Data['open'])\n",
    "    del(Data['close'])\n",
    "    del(Data['high'])\n",
    "    del(Data['low'])\n",
    "    return Data[:len(Data)-2], value"
   ]
  },
  {
   "cell_type": "markdown",
   "metadata": {},
   "source": [
    "再利用 `sklearn` 中的 `cross_validation` 將原本的 training_data 分成一半一半下去做 training"
   ]
  },
  {
   "cell_type": "code",
   "execution_count": 7,
   "metadata": {},
   "outputs": [
    {
     "ename": "NameError",
     "evalue": "name 'train_x' is not defined",
     "output_type": "error",
     "traceback": [
      "\u001b[1;31m---------------------------------------------------------------------------\u001b[0m",
      "\u001b[1;31mNameError\u001b[0m                                 Traceback (most recent call last)",
      "\u001b[1;32m<ipython-input-7-bd325a39b1f5>\u001b[0m in \u001b[0;36m<module>\u001b[1;34m()\u001b[0m\n\u001b[0;32m      1\u001b[0m \u001b[1;32mfrom\u001b[0m \u001b[0msklearn\u001b[0m \u001b[1;32mimport\u001b[0m \u001b[0mcross_validation\u001b[0m\u001b[1;33m\u001b[0m\u001b[0m\n\u001b[1;32m----> 2\u001b[1;33m \u001b[0mX_train\u001b[0m\u001b[1;33m,\u001b[0m \u001b[0mX_test\u001b[0m\u001b[1;33m,\u001b[0m \u001b[0my_train\u001b[0m\u001b[1;33m,\u001b[0m \u001b[0my_test\u001b[0m \u001b[1;33m=\u001b[0m \u001b[0mcross_validation\u001b[0m\u001b[1;33m.\u001b[0m\u001b[0mtrain_test_split\u001b[0m\u001b[1;33m(\u001b[0m\u001b[0mtrain_x\u001b[0m\u001b[1;33m,\u001b[0m \u001b[0mtrain_y\u001b[0m\u001b[1;33m,\u001b[0m \u001b[0mtest_size\u001b[0m \u001b[1;33m=\u001b[0m \u001b[1;36m0.5\u001b[0m\u001b[1;33m,\u001b[0m \u001b[0mrandom_state\u001b[0m \u001b[1;33m=\u001b[0m \u001b[1;36m0\u001b[0m\u001b[1;33m)\u001b[0m\u001b[1;33m\u001b[0m\u001b[0m\n\u001b[0m\u001b[0;32m      3\u001b[0m \u001b[0mclf\u001b[0m \u001b[1;33m=\u001b[0m \u001b[0msvm\u001b[0m\u001b[1;33m.\u001b[0m\u001b[0mSVC\u001b[0m\u001b[1;33m(\u001b[0m\u001b[0mkernel\u001b[0m\u001b[1;33m=\u001b[0m\u001b[1;34m'rbf'\u001b[0m\u001b[1;33m,\u001b[0m \u001b[0mC\u001b[0m\u001b[1;33m=\u001b[0m\u001b[1;36m1\u001b[0m\u001b[1;33m)\u001b[0m\u001b[1;33m.\u001b[0m\u001b[0mfit\u001b[0m\u001b[1;33m(\u001b[0m\u001b[0mX_train\u001b[0m\u001b[1;33m,\u001b[0m \u001b[0my_train\u001b[0m\u001b[1;33m)\u001b[0m\u001b[1;33m\u001b[0m\u001b[0m\n",
      "\u001b[1;31mNameError\u001b[0m: name 'train_x' is not defined"
     ]
    }
   ],
   "source": [
    "from sklearn import cross_validation\n",
    "X_train, X_test, y_train, y_test = cross_validation.train_test_split(train_x, train_y, test_size = 0.5, random_state = 0)\n",
    "clf = svm.SVC(kernel='rbf', C=1).fit(X_train, y_train)"
   ]
  },
  {
   "cell_type": "markdown",
   "metadata": {},
   "source": [
    "最後在 output action 時，避免掉錯誤情況的發生"
   ]
  },
  {
   "cell_type": "code",
   "execution_count": null,
   "metadata": {},
   "outputs": [],
   "source": [
    "def get_action(array):\n",
    "    global handle\n",
    "    for index, x in np.ndenumerate(array):\n",
    "        # print(index, x)\n",
    "        if handle == 0:\n",
    "            if x == 1:\n",
    "                handle = 1\n",
    "                return 1\n",
    "            elif x == 0:\n",
    "                handle = -1\n",
    "                return -1\n",
    "        elif handle == 1:\n",
    "            if x == 1:\n",
    "                return 0\n",
    "            elif x == 0:\n",
    "                handle = 0\n",
    "                return -1\n",
    "        elif handle == -1:\n",
    "            if x == 1:\n",
    "                handle = 0\n",
    "                return 1\n",
    "            elif x == 0:\n",
    "                return 0"
   ]
  }
 ],
 "metadata": {
  "kernelspec": {
   "display_name": "Python 3",
   "language": "python",
   "name": "python3"
  },
  "language_info": {
   "codemirror_mode": {
    "name": "ipython",
    "version": 3
   },
   "file_extension": ".py",
   "mimetype": "text/x-python",
   "name": "python",
   "nbconvert_exporter": "python",
   "pygments_lexer": "ipython3",
   "version": "3.6.4"
  }
 },
 "nbformat": 4,
 "nbformat_minor": 2
}
